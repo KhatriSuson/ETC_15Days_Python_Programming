{
  "nbformat": 4,
  "nbformat_minor": 0,
  "metadata": {
    "colab": {
      "provenance": [],
      "toc_visible": true,
      "authorship_tag": "ABX9TyP4QDhi+bwrHJ4w2dq7BfG5",
      "include_colab_link": true
    },
    "kernelspec": {
      "name": "python3",
      "display_name": "Python 3"
    },
    "language_info": {
      "name": "python"
    }
  },
  "cells": [
    {
      "cell_type": "markdown",
      "metadata": {
        "id": "view-in-github",
        "colab_type": "text"
      },
      "source": [
        "<a href=\"https://colab.research.google.com/github/KhatriSuson/ETC_15Days_Python_Programming/blob/main/SystemAdministrationWithPython.ipynb\" target=\"_parent\"><img src=\"https://colab.research.google.com/assets/colab-badge.svg\" alt=\"Open In Colab\"/></a>"
      ]
    },
    {
      "cell_type": "code",
      "execution_count": 3,
      "metadata": {
        "colab": {
          "base_uri": "https://localhost:8080/"
        },
        "id": "aJdVWO0ehpxU",
        "outputId": "90c5b6e0-ac64-45e7-be99-95c21f243311"
      },
      "outputs": [
        {
          "output_type": "stream",
          "name": "stdout",
          "text": [
            "Gathering System information with command: uname -a\n",
            "Gathering active process information with command: ps -x\n"
          ]
        },
        {
          "output_type": "execute_result",
          "data": {
            "text/plain": [
              "CompletedProcess(args=['ps', '-x'], returncode=0)"
            ]
          },
          "metadata": {},
          "execution_count": 3
        }
      ],
      "source": [
        "import os\n",
        "os.system(\"ls\")\n",
        "\n",
        "\n",
        "import subprocess\n",
        "\n",
        "subprocess.run(['ls'])\n",
        "\n",
        "#  Using subprocess.run with two arguments\n",
        "subprocess.run([\"ls\", \"-l\"])\n",
        "\n",
        "\n",
        "# Retrieving information about disk space\n",
        "subprocess.run(['ls','-la', \"apple.txt\"])\n",
        "\n",
        "# Retrieving information about disk space\n",
        "command = 'uname'\n",
        "commandArgument = '-a'\n",
        "print(f'Gathering System information with command: {command} {commandArgument}')\n",
        "subprocess.run([command, commandArgument])\n",
        "\n",
        "\n",
        "# Retrieving information about disk space\n",
        "command=\"ps\"\n",
        "commandArgument=\"-x\"\n",
        "print(f'Gathering active process information with command: {command} {commandArgument}')\n",
        "subprocess.run([command,commandArgument])"
      ]
    },
    {
      "cell_type": "code",
      "source": [],
      "metadata": {
        "id": "S5Lm3qippabn"
      },
      "execution_count": null,
      "outputs": []
    }
  ]
}